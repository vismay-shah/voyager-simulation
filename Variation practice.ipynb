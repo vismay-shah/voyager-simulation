{
 "cells": [
  {
   "cell_type": "code",
   "execution_count": 2,
   "metadata": {
    "collapsed": false,
    "scrolled": true
   },
   "outputs": [
    {
     "name": "stdout",
     "output_type": "stream",
     "text": [
      "7.10473913102e-05\n",
      "7.12884724484e-05\n"
     ]
    }
   ],
   "source": [
    "import rebound\n",
    "import numpy as np\n",
    "\n",
    "def calculate_vx(a):\n",
    "    sim = rebound.Simulation()\n",
    "    sim.add(m=1.) # star\n",
    "    # for variation, need to define star as 'primary' explicitly ie give it position 0 in the particles array\n",
    "    sim.add(primary=sim.particles[0],m=0.0009543, a=1) # A jupiter mass planet at a distance of 1 au\n",
    "    sim.add(primary=sim.particles[0],m=0.00009543,a=a) # a 1/10 jupiter mass planet at a initial distance of a au\n",
    "    sim.integrate(2.*np.pi*10) # integrate sim for 10 years\n",
    "    return sim.particles[0].vx  # return star's velocity in the x direction\n",
    "\n",
    "print calculate_vx(a=1.5)\n",
    "print calculate_vx(a=1.5001)"
   ]
  },
  {
   "cell_type": "code",
   "execution_count": 3,
   "metadata": {
    "collapsed": false
   },
   "outputs": [
    {
     "name": "stdout",
     "output_type": "stream",
     "text": [
      "7.12885725463e-05\n"
     ]
    }
   ],
   "source": [
    "def calculate_vx_derivative(a):\n",
    "    sim = rebound.Simulation()\n",
    "    sim.add(m=1.) # star\n",
    "    sim.add(primary=sim.particles[0],m=0.0009543, a=1) # A jupiter mass planet at a distance of 1 au\n",
    "    sim.add(primary=sim.particles[0],m=0.00009543,a=a) # a 1/10 jupiter mass planet at a initial distance of a au\n",
    "    v1 = sim.add_variation()    # add a set of variational particles\n",
    "    v1.vary(2,\"a\")              # initialize the variational particles --> the 2 is the particle index, \n",
    "                                #                                           and 'a' the parameter being varied\n",
    "\n",
    "    sim.integrate(2.*np.pi*10.) # integrate for ~10 orbits\n",
    "    return sim.particles[0].vx, v1.particles[0].vx # return star's velocity and its derivative\n",
    "\n",
    "vel_0, dvel_0 = calculate_vx_derivative(a=1.5) # this will give the velocity at a=1.5, and the derivative\n",
    "# Can then use a taylor expansion to get velocities for small perturbations to a=1.5\n",
    "# Recall the taylor expansion in general, for f(x)~f(a)+ (x-a)df/dx + 0.5*(x-a)^2*(d^2f/dx)+...\n",
    "# ---->  The expansion of v(a) will be v(a) = v(a0) + (a-a0)dv/dt, find this as an estimate for vx for a=1.5+e where e is \n",
    "#          small\n",
    "a0 = 1.5\n",
    "def find_v(a):\n",
    "    return vel_0 + (a-a0)*dvel_0\n",
    "\n",
    "print find_v(1.5001)\n"
   ]
  },
  {
   "cell_type": "code",
   "execution_count": 16,
   "metadata": {
    "collapsed": false
   },
   "outputs": [
    {
     "name": "stdout",
     "output_type": "stream",
     "text": [
      "Earth's x position as a result of a change in Mars' semi major axis after 10 orbits \n",
      "At x=2.: -0.0170001127902, and at x=2.: -0.0169999096912\n",
      "At x=2. with variation: -0.016999746299\n"
     ]
    }
   ],
   "source": [
    "'''\n",
    "So now let me try to vary the x position.\n",
    "Lets vary the x position of Mars slightly, and see the impact it has on Earth's x position\n",
    "\n",
    "--> will need to gind cartesian coords in terms of orbital parameters\n",
    "'''\n",
    "\n",
    "def calculate_xpos(x):\n",
    "    sim = rebound.Simulation()\n",
    "    sim.add(m=1)   # add the Sun\n",
    "    ''' CANNOT USE CARTESIAN DATA, NEED TO USE ORBITAL ELEMENTS\n",
    "    # add Earth as of Feb 13 2017, 00:00:00\n",
    "    sim.add(m=2.95e-6, x=-7.978572823262211E-01, y= 5.812732071419280E-01, z=-1.722649673541333E-04,\\\n",
    "            vx=-1.033661818510841E-02, vy=-1.401082240323706E-02, vz=7.127882424861757E-10)   \n",
    "    # add Mars as of Feb 13 2017, 00:00:00\n",
    "    sim.add(m=3.21e-7, x=1.093396336138831, y=9.655017747507859E-01, z=-6.763596943826665E-03,\\\n",
    "            vx=-8.725401522523147E-03, vy=1.169825170487331E-02, vz=4.591341975755195E-04)  \n",
    "    '''\n",
    "    sim.add(primary=sim.particles[0], m=2.95e-6, a=9.991662909158031E-01, e= 1.620151388838157E-02, inc=1.102181520451029E-03,\\\n",
    "           Omega=2.446006429849909E+02, omega=2.160884075157936E+02, f=4.354571005004216E+01)\n",
    "    # Mars a:  a=1.523704095698228E+00\n",
    "    sim.add(primary=sim.particles[0], m=3.21e-7,a=x, e=9.350710936656478E-02, inc=1.848383565629012E+00,\\\n",
    "           Omega=4.950721528118110E+01, omega=2.866646515502128E+02, f=6.522977681625729E+01)\n",
    "    \n",
    "    sim.integrate(2*np.pi*1) # integrate for 1 Earth year\n",
    "    return sim.particles[1].x # get Earth's x position back\n",
    "\n",
    "# find Earth's x position at x=1.0 and a small change x=1.01\n",
    "print \"Earth's x position as a result of a change in Mars' semi major axis after 10 orbits \"\n",
    "print \"At x=2.: {}, and at x=2.: {}\".format(calculate_xpos(2.), calculate_xpos(2.5))\n",
    "\n",
    "def calculate_xpos_deriv(x):\n",
    "    sim = rebound.Simulation()\n",
    "    sim.add(m=1)   # add the Sun\n",
    "    sim.add(primary=sim.particles[0], m=2.95e-6, a=9.991662909158031E-01, e= 1.620151388838157E-02, inc=1.102181520451029E-03,\\\n",
    "           Omega=2.446006429849909E+02, omega=2.160884075157936E+02, f=4.354571005004216E+01)\n",
    "    # Mars a:  a=1.523704095698228E+00\n",
    "    sim.add(primary=sim.particles[0], m=3.21e-7,a=x, e=9.350710936656478E-02, inc=1.848383565629012E+00,\\\n",
    "           Omega=4.950721528118110E+01, omega=2.866646515502128E+02, f=6.522977681625729E+01)\n",
    "    v1 = sim.add_variation() # add a set of variational particles\n",
    "    v1.vary(2,\"a\")\n",
    "    sim.integrate(2*np.pi*1) # integrate for 1 Earth year\n",
    "    return sim.particles[1].x, v1.particles[1].x # get Earth's x position back, and its derivative\n",
    "    \n",
    "xpos, dxpos = calculate_xpos_deriv(2.)\n",
    "x_0 = 2.\n",
    "def find_x(x):\n",
    "    return xpos + (x-x_0)*dxpos\n",
    "\n",
    "print \"At x=2. with variation: {}\".format(find_x(2.5))\n",
    "\n",
    "    "
   ]
  },
  {
   "cell_type": "code",
   "execution_count": null,
   "metadata": {
    "collapsed": true
   },
   "outputs": [],
   "source": []
  }
 ],
 "metadata": {
  "kernelspec": {
   "display_name": "Python [Root]",
   "language": "python",
   "name": "Python [Root]"
  },
  "language_info": {
   "codemirror_mode": {
    "name": "ipython",
    "version": 2
   },
   "file_extension": ".py",
   "mimetype": "text/x-python",
   "name": "python",
   "nbconvert_exporter": "python",
   "pygments_lexer": "ipython2",
   "version": "2.7.12"
  }
 },
 "nbformat": 4,
 "nbformat_minor": 0
}
