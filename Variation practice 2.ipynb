{
 "cells": [
  {
   "cell_type": "code",
   "execution_count": 1,
   "metadata": {
    "collapsed": false
   },
   "outputs": [
    {
     "name": "stdout",
     "output_type": "stream",
     "text": [
      "Probe with vx=-1.0E-02 gives probe position: [-0.7228955843119583, 0.5554849004594129, -0.00018836706704681964]\n",
      "\t\t\t Mars position: [0.6032457157004847, 0.5086035555079818, -0.004234056285918552]\n",
      "Probe with vx=-1.5E-02 gives probe position: [-0.7230032598441998, 0.5565225266419809, -0.00018866650107948998]\n",
      "\t\t\t Mars position: [0.6032457156992477, 0.5086035555068789, -0.004234056285911121]\n"
     ]
    }
   ],
   "source": [
    "import rebound\n",
    "import numpy as np\n",
    "import matplotlib.pyplot as plt\n",
    "%matplotlib inline  \n",
    "'''\n",
    "Have a system consisting of the Sun, Earth, Mars and a probe near Earth. The probe has initial conditions as specified.\n",
    "Define a 'cost funciton' chi: root((r-x)^2) where r is the distance from the probe to Mars, and x the probe's x position.\n",
    "Study the impact of slightly varying the probe's vx on the cost.\n",
    "\n",
    "Have Chi(vx) = Chi(vx_0) + (vx-vx_0)dChi/dvx + 1/2 * (vx-vx_0)^2 * d^2Chi/dvx^2\n",
    "\n",
    "dChi/dvx = dChi/dx * dx/dvx\n",
    "dChi/dx = (x-r)/root((r-x)^2)\n",
    "get dx/dvx from variation\n",
    "'''\n",
    "\n",
    "def calculate_xpos(vx):\n",
    "    sim = rebound.Simulation()\n",
    "    sim.add(m=1)   # add the Sun\n",
    "    ''' CANNOT USE CARTESIAN DATA, NEED TO USE ORBITAL ELEMENTS\n",
    "    # add Earth as of Feb 13 2017, 00:00:00\n",
    "    sim.add(m=2.95e-6, x=-7.978572823262211E-01, y= 5.812732071419280E-01, z=-1.722649673541333E-04,\\\n",
    "            vx=-1.033661818510841E-02, vy=-1.401082240323706E-02, vz=7.127882424861757E-10)   \n",
    "    # add Mars as of Feb 13 2017, 00:00:00\n",
    "    sim.add(m=3.21e-7, x=1.093396336138831, y=9.655017747507859E-01, z=-6.763596943826665E-03,\\\n",
    "            vx=-8.725401522523147E-03, vy=1.169825170487331E-02, vz=4.591341975755195E-04)  \n",
    "    '''\n",
    "    sim.add(m=2.95e-6, x=-7.978572823262211E-01, y= 5.812732071419280E-01, \\\n",
    "            z=-1.722649673541333E-04, vx=-1.033661818510841E-02, vy=-1.401082240323706E-02, vz=7.127882424861757E-10) \n",
    "    sim.add(m=3.21e-7, x=1.093396336138831, y=9.655017747507859E-01, z=-6.763596943826665E-03,\\\n",
    "            vx=-8.725401522523147E-03, vy=1.169825170487331E-02, vz=4.591341975755195E-04)\n",
    "    # Now add a small probe near to Earth.\n",
    "    sim.add(m=1e-28, x=-8.0E-01, y= 6.0E-01, z=-2.0E-04, vx=vx, \\\n",
    "            vy=-1.401082240323706E-02, vz=7.127882424861757E-10)\n",
    "    ps = sim.particles\n",
    "    sim.integrate(2*np.pi*1) # integrate for 1 Earth year\n",
    "    return [ps[3].x, ps[3].y, ps[3].z, ps[2].x, ps[2].y, ps[2].z] # get positions back\n",
    "\n",
    "print \"Probe with vx=-1.0E-02 gives probe position: {}\\n\\t\\t\\t Mars position: {}\".format(calculate_xpos(vx=-1.0E-02)[0:3],\\\n",
    "                                                                                  calculate_xpos(vx=-1.0E-02)[3:])\n",
    "\n",
    "\n",
    "print \"Probe with vx=-1.5E-02 gives probe position: {}\\n\\t\\t\\t Mars position: {}\".format(calculate_xpos(vx=-1.5E-02)[0:3],\\\n",
    "                                                                                  calculate_xpos(vx=-1.5E-02)[3:])\n",
    "\n",
    "\n",
    "\n",
    "\n",
    "\n",
    "\n"
   ]
  },
  {
   "cell_type": "code",
   "execution_count": 5,
   "metadata": {
    "collapsed": false
   },
   "outputs": [
    {
     "data": {
      "image/png": "[encoded data removed]",
      "text/plain": [
       "<matplotlib.figure.Figure at 0x7fcd63d3dfd0>"
      ]
     },
     "metadata": {},
     "output_type": "display_data"
    },
    {
     "data": {
      "image/png": "[encoded data removed]",
      "text/plain": [
       "<matplotlib.figure.Figure at 0x7fcd63d5ab50>"
      ]
     },
     "metadata": {},
     "output_type": "display_data"
    }
   ],
   "source": [
    "'''\n",
    "Have a system consisting of the Sun, Earth, Mars and a probe near Earth. The probe has initial conditions as specified.\n",
    "Define a 'cost funciton' chi: root((r-x)^2) where r is the position of Mars, and x the probe's x position.\n",
    "Study the impact of slightly varying the probe's vx on the cost.\n",
    "\n",
    "Have Chi(vx) = Chi(vx_0) + (vx-vx_0)dChi/dvx + 1/2 * (vx-vx_0)^2 * d^2Chi/dvx^2\n",
    "\n",
    "dChi/dvx = dChi/dx * dx/dvx\n",
    "dChi/dx = (x-r)/root((r-x)^2)\n",
    "\n",
    "d^2Chi/dvx^2 = d^2Chi/dx^2 * d^x/dvx^2\n",
    "d^2Chi/dx^2 = 0 --> can ignore this term!\n",
    "get dx/dvx from variation\n",
    "'''\n",
    "def cost(r, x):\n",
    "    '''r, x are 3-component arrays, r being the position of Mars, and x being the position of the probe'''\n",
    "    cost = np.sum(np.square(r-x))\n",
    "    return np.sqrt(cost)\n",
    "\n",
    "def dcost_dx(r, x):\n",
    "    '''r, x are 3-component arrays, r being the position of Mars, and x being the position of the probe'''\n",
    "    dcost = np.sum((x-r)/np.sqrt(np.square(r-x)))\n",
    "    return dcost\n",
    "\n",
    "\n",
    "def calculate_xpos_deriv(vx_0):\n",
    "    sim = rebound.Simulation()\n",
    "    sim.add(m=1)   # add the Sun\n",
    "    sim.add(m=2.95e-6, x=-7.978572823262211E-01, y= 5.812732071419280E-01, \\\n",
    "            z=-1.722649673541333E-04, vx=-1.033661818510841E-02, vy=-1.401082240323706E-02, vz=7.127882424861757E-10) \n",
    "    sim.add(m=3.21e-7, x=1.093396336138831, y=9.655017747507859E-01, z=-6.763596943826665E-03,\\\n",
    "            vx=-8.725401522523147E-03, vy=1.169825170487331E-02, vz=4.591341975755195E-04)\n",
    "    # Now add a small probe near to Earth.\n",
    "    sim.add(m=1e-28, x=-8.0E-01, y= 6.0E-01, z=-2.0E-04, vx=vx_0, \\\n",
    "            vy=-1.401082240323706E-02, vz=7.127882424861757E-10)\n",
    "    v1 = sim.add_variation() # add a set of variational particles\n",
    "    v1.particles[3].vx = 1 \n",
    "    v2 = sim.add_variation(order=2, first_order=v1)\n",
    "    v2.particles[3].vx = 1\n",
    "    sim.integrate(2*np.pi*1) # integrate for 1 Earth year\n",
    "    return [sim.particles[3].x, sim.particles[3].y, sim.particles[3].z, sim.particles[2].x, sim.particles[2].y, \\\n",
    "            sim.particles[2].z], v1.particles[3].x, v2.particles[3] # get positions back, and x derivatives\n",
    "\n",
    "vx_0 = -1.0E-02\n",
    "pos, dxpos, d2xpos = calculate_xpos_deriv(vx_0) # get position vectors for probe, Mars, and vx for probe.\n",
    "r = np.array(pos[3:]) # position of MARS\n",
    "pos = np.array(pos[:3]) # position of PROBE\n",
    "cost_base = cost(r,pos)\n",
    "# unfortunately the cost fn. has a second deriv wrt x of 0 ==> can only expand to first order in variation\n",
    "'''\n",
    "Now that we have the base cost of the trip, lets vary vx_0 slightly\n",
    "'''\n",
    "# set up array of v's close by vx_0\n",
    "vx = np.linspace(-0.5E-2, -1.5E-2, 50) \n",
    "vx2 = np.linspace(vx_0-0.001*vx_0, vx_0+0.001*vx_0, 100) \n",
    "# lets create an array of things we know won't work, ie where vx is not close to vx_0\n",
    "vx_bad = [vx_0+10., vx_0-1., vx_0+2*10E-10] # deltas too big or too small\n",
    "\n",
    "\n",
    "varied_costs = []\n",
    "for vel in vx:\n",
    "    varied_costs.append(cost_base + (vel-vx_0)* (dcost_dx(r,pos) * dxpos))\n",
    "    \n",
    "varied_costs2 = []\n",
    "for vel in vx2:\n",
    "    varied_costs2.append(cost_base + (vel-vx_0)* (dcost_dx(r,pos) * dxpos))\n",
    "\n",
    "varied_costs3 = []\n",
    "for vel in vx_bad:\n",
    "    varied_costs3.append(cost_base + (vel-vx_0)* (dcost_dx(r,pos) * dxpos))\n",
    "\n",
    "#plt.plot(vx, varied_costs, '.-b')\n",
    "plt.figure(1)\n",
    "plt.plot(vx2, varied_costs2, '.-g')\n",
    "plt.plot(vx_0, cost_base, 'or', label='base point')\n",
    "plt.xlabel('vx')\n",
    "plt.ylabel('cost')\n",
    "plt.title('Cost vs vx')\n",
    "plt.legend()\n",
    "plt.figure(2)\n",
    "plt.plot(vx_bad, varied_costs3, 'og')\n",
    "plt.plot(vx_0, cost_base, 'or', label='base point')\n",
    "plt.xlabel('vx')\n",
    "plt.ylabel('cost')\n",
    "plt.title('Cost vs vx')\n",
    "\n",
    "\n",
    "plt.show()\n",
    "\n",
    "\n"
   ]
  }
 ],
 "metadata": {
  "kernelspec": {
   "display_name": "Python [Root]",
   "language": "python",
   "name": "Python [Root]"
  },
  "language_info": {
   "codemirror_mode": {
    "name": "ipython",
    "version": 2
   },
   "file_extension": ".py",
   "mimetype": "text/x-python",
   "name": "python",
   "nbconvert_exporter": "python",
   "pygments_lexer": "ipython2",
   "version": "2.7.12"
  }
 },
 "nbformat": 4,
 "nbformat_minor": 0
}
